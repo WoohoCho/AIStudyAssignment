{
 "cells": [
  {
   "cell_type": "code",
   "execution_count": 1,
   "id": "6948e465",
   "metadata": {},
   "outputs": [
    {
     "name": "stdout",
     "output_type": "stream",
     "text": [
      "WARNING:tensorflow:From C:\\Users\\whdng\\anaconda3\\Lib\\site-packages\\keras\\src\\losses.py:2976: The name tf.losses.sparse_softmax_cross_entropy is deprecated. Please use tf.compat.v1.losses.sparse_softmax_cross_entropy instead.\n",
      "\n",
      "2.15.0\n"
     ]
    }
   ],
   "source": [
    "#건포도인가? 아닌가?를 분류하는 모델 (DEEP LEARNING CLASSIFICATION)\n",
    "# TensorFlow and tf.keras\n",
    "import tensorflow as tf\n",
    "\n",
    "# Helper libraries\n",
    "import numpy as np\n",
    "import matplotlib.pyplot as plt\n",
    "\n",
    "print(tf.__version__)"
   ]
  },
  {
   "cell_type": "code",
   "execution_count": 6,
   "id": "a3cb9c75",
   "metadata": {},
   "outputs": [
    {
     "name": "stdout",
     "output_type": "stream",
     "text": [
      "<class 'pandas.core.frame.DataFrame'>\n",
      "RangeIndex: 900 entries, 0 to 899\n",
      "Data columns (total 8 columns):\n",
      " #   Column           Non-Null Count  Dtype  \n",
      "---  ------           --------------  -----  \n",
      " 0   Area             900 non-null    int64  \n",
      " 1   MajorAxisLength  900 non-null    float64\n",
      " 2   MinorAxisLength  900 non-null    float64\n",
      " 3   Eccentricity     900 non-null    float64\n",
      " 4   ConvexArea       900 non-null    int64  \n",
      " 5   Extent           900 non-null    float64\n",
      " 6   Perimeter        900 non-null    float64\n",
      " 7   Class            900 non-null    object \n",
      "dtypes: float64(5), int64(2), object(1)\n",
      "memory usage: 56.4+ KB\n"
     ]
    }
   ],
   "source": [
    "import pandas as pd\n",
    "\n",
    "data = pd.read_excel('Raisin_Dataset.xlsx')  # \"read_excel\"을 사용하여 엑셀 파일을 읽습니다.\n",
    "data.info()\n"
   ]
  },
  {
   "cell_type": "code",
   "execution_count": 7,
   "id": "c385af31",
   "metadata": {},
   "outputs": [
    {
     "data": {
      "text/html": [
       "<div>\n",
       "<style scoped>\n",
       "    .dataframe tbody tr th:only-of-type {\n",
       "        vertical-align: middle;\n",
       "    }\n",
       "\n",
       "    .dataframe tbody tr th {\n",
       "        vertical-align: top;\n",
       "    }\n",
       "\n",
       "    .dataframe thead th {\n",
       "        text-align: right;\n",
       "    }\n",
       "</style>\n",
       "<table border=\"1\" class=\"dataframe\">\n",
       "  <thead>\n",
       "    <tr style=\"text-align: right;\">\n",
       "      <th></th>\n",
       "      <th>Area</th>\n",
       "      <th>MajorAxisLength</th>\n",
       "      <th>MinorAxisLength</th>\n",
       "      <th>Eccentricity</th>\n",
       "      <th>ConvexArea</th>\n",
       "      <th>Extent</th>\n",
       "      <th>Perimeter</th>\n",
       "      <th>Class</th>\n",
       "    </tr>\n",
       "  </thead>\n",
       "  <tbody>\n",
       "    <tr>\n",
       "      <th>0</th>\n",
       "      <td>87524</td>\n",
       "      <td>442.246011</td>\n",
       "      <td>253.291155</td>\n",
       "      <td>0.819738</td>\n",
       "      <td>90546</td>\n",
       "      <td>0.758651</td>\n",
       "      <td>1184.040</td>\n",
       "      <td>Kecimen</td>\n",
       "    </tr>\n",
       "    <tr>\n",
       "      <th>1</th>\n",
       "      <td>75166</td>\n",
       "      <td>406.690687</td>\n",
       "      <td>243.032436</td>\n",
       "      <td>0.801805</td>\n",
       "      <td>78789</td>\n",
       "      <td>0.684130</td>\n",
       "      <td>1121.786</td>\n",
       "      <td>Kecimen</td>\n",
       "    </tr>\n",
       "    <tr>\n",
       "      <th>2</th>\n",
       "      <td>90856</td>\n",
       "      <td>442.267048</td>\n",
       "      <td>266.328318</td>\n",
       "      <td>0.798354</td>\n",
       "      <td>93717</td>\n",
       "      <td>0.637613</td>\n",
       "      <td>1208.575</td>\n",
       "      <td>Kecimen</td>\n",
       "    </tr>\n",
       "    <tr>\n",
       "      <th>3</th>\n",
       "      <td>45928</td>\n",
       "      <td>286.540559</td>\n",
       "      <td>208.760042</td>\n",
       "      <td>0.684989</td>\n",
       "      <td>47336</td>\n",
       "      <td>0.699599</td>\n",
       "      <td>844.162</td>\n",
       "      <td>Kecimen</td>\n",
       "    </tr>\n",
       "    <tr>\n",
       "      <th>4</th>\n",
       "      <td>79408</td>\n",
       "      <td>352.190770</td>\n",
       "      <td>290.827533</td>\n",
       "      <td>0.564011</td>\n",
       "      <td>81463</td>\n",
       "      <td>0.792772</td>\n",
       "      <td>1073.251</td>\n",
       "      <td>Kecimen</td>\n",
       "    </tr>\n",
       "    <tr>\n",
       "      <th>...</th>\n",
       "      <td>...</td>\n",
       "      <td>...</td>\n",
       "      <td>...</td>\n",
       "      <td>...</td>\n",
       "      <td>...</td>\n",
       "      <td>...</td>\n",
       "      <td>...</td>\n",
       "      <td>...</td>\n",
       "    </tr>\n",
       "    <tr>\n",
       "      <th>895</th>\n",
       "      <td>83248</td>\n",
       "      <td>430.077308</td>\n",
       "      <td>247.838695</td>\n",
       "      <td>0.817263</td>\n",
       "      <td>85839</td>\n",
       "      <td>0.668793</td>\n",
       "      <td>1129.072</td>\n",
       "      <td>Besni</td>\n",
       "    </tr>\n",
       "    <tr>\n",
       "      <th>896</th>\n",
       "      <td>87350</td>\n",
       "      <td>440.735698</td>\n",
       "      <td>259.293149</td>\n",
       "      <td>0.808629</td>\n",
       "      <td>90899</td>\n",
       "      <td>0.636476</td>\n",
       "      <td>1214.252</td>\n",
       "      <td>Besni</td>\n",
       "    </tr>\n",
       "    <tr>\n",
       "      <th>897</th>\n",
       "      <td>99657</td>\n",
       "      <td>431.706981</td>\n",
       "      <td>298.837323</td>\n",
       "      <td>0.721684</td>\n",
       "      <td>106264</td>\n",
       "      <td>0.741099</td>\n",
       "      <td>1292.828</td>\n",
       "      <td>Besni</td>\n",
       "    </tr>\n",
       "    <tr>\n",
       "      <th>898</th>\n",
       "      <td>93523</td>\n",
       "      <td>476.344094</td>\n",
       "      <td>254.176054</td>\n",
       "      <td>0.845739</td>\n",
       "      <td>97653</td>\n",
       "      <td>0.658798</td>\n",
       "      <td>1258.548</td>\n",
       "      <td>Besni</td>\n",
       "    </tr>\n",
       "    <tr>\n",
       "      <th>899</th>\n",
       "      <td>85609</td>\n",
       "      <td>512.081774</td>\n",
       "      <td>215.271976</td>\n",
       "      <td>0.907345</td>\n",
       "      <td>89197</td>\n",
       "      <td>0.632020</td>\n",
       "      <td>1272.862</td>\n",
       "      <td>Besni</td>\n",
       "    </tr>\n",
       "  </tbody>\n",
       "</table>\n",
       "<p>900 rows × 8 columns</p>\n",
       "</div>"
      ],
      "text/plain": [
       "      Area  MajorAxisLength  MinorAxisLength  Eccentricity  ConvexArea  \\\n",
       "0    87524       442.246011       253.291155      0.819738       90546   \n",
       "1    75166       406.690687       243.032436      0.801805       78789   \n",
       "2    90856       442.267048       266.328318      0.798354       93717   \n",
       "3    45928       286.540559       208.760042      0.684989       47336   \n",
       "4    79408       352.190770       290.827533      0.564011       81463   \n",
       "..     ...              ...              ...           ...         ...   \n",
       "895  83248       430.077308       247.838695      0.817263       85839   \n",
       "896  87350       440.735698       259.293149      0.808629       90899   \n",
       "897  99657       431.706981       298.837323      0.721684      106264   \n",
       "898  93523       476.344094       254.176054      0.845739       97653   \n",
       "899  85609       512.081774       215.271976      0.907345       89197   \n",
       "\n",
       "       Extent  Perimeter    Class  \n",
       "0    0.758651   1184.040  Kecimen  \n",
       "1    0.684130   1121.786  Kecimen  \n",
       "2    0.637613   1208.575  Kecimen  \n",
       "3    0.699599    844.162  Kecimen  \n",
       "4    0.792772   1073.251  Kecimen  \n",
       "..        ...        ...      ...  \n",
       "895  0.668793   1129.072    Besni  \n",
       "896  0.636476   1214.252    Besni  \n",
       "897  0.741099   1292.828    Besni  \n",
       "898  0.658798   1258.548    Besni  \n",
       "899  0.632020   1272.862    Besni  \n",
       "\n",
       "[900 rows x 8 columns]"
      ]
     },
     "execution_count": 7,
     "metadata": {},
     "output_type": "execute_result"
    }
   ],
   "source": [
    "data"
   ]
  },
  {
   "cell_type": "code",
   "execution_count": 8,
   "id": "ce1daf24",
   "metadata": {},
   "outputs": [
    {
     "name": "stdout",
     "output_type": "stream",
     "text": [
      "품종 종류: ['Kecimen' 'Besni']\n"
     ]
    }
   ],
   "source": [
    "# 중복을 허용하지 않고 있는 데이터의 종류를 출력\n",
    "print(\"종류:\", data[\"Class\"].unique())\n"
   ]
  },
  {
   "cell_type": "code",
   "execution_count": 10,
   "id": "e6b3789f",
   "metadata": {},
   "outputs": [
    {
     "name": "stdout",
     "output_type": "stream",
     "text": [
      "종류: [0 1]\n"
     ]
    }
   ],
   "source": [
    "\n",
    "# 라벨을 정수로 인덱싱\n",
    "data['Class'] = data['Class'].replace(['Kecimen','Besni'], [0,1])\n",
    "print(\"종류:\", data[\"Class\"].unique())"
   ]
  },
  {
   "cell_type": "code",
   "execution_count": 11,
   "id": "529cdb0e",
   "metadata": {},
   "outputs": [],
   "source": [
    "#입력 및 라벨 데이터 \n",
    "data_X = data[['Area', 'MajorAxisLength', 'MinorAxisLength', 'Eccentricity','ConvexArea','Extent', 'Perimeter']].values \n",
    "data_y = data['Class'].values"
   ]
  },
  {
   "cell_type": "code",
   "execution_count": 13,
   "id": "c731fde2",
   "metadata": {},
   "outputs": [],
   "source": [
    "# 학습 및 테스트 데이터\n",
    "from sklearn.model_selection import train_test_split\n",
    "\n",
    "\n",
    "(train_X, test_X, train_Y, test_Y) = train_test_split(data_X, data_y, train_size=0.8)"
   ]
  },
  {
   "cell_type": "code",
   "execution_count": 14,
   "id": "25c4f119",
   "metadata": {},
   "outputs": [],
   "source": [
    "from keras.utils import to_categorical\n",
    "#  학습 및 테스트 데이터 원-핫 인코딩\n",
    "train_Y = to_categorical(train_Y)\n",
    "test_Y = to_categorical(test_Y)"
   ]
  },
  {
   "cell_type": "code",
   "execution_count": 15,
   "id": "a88db190",
   "metadata": {},
   "outputs": [],
   "source": [
    "from keras.models import Sequential\n",
    "from keras.layers import Dense"
   ]
  },
  {
   "cell_type": "code",
   "execution_count": 16,
   "id": "ea30c84d",
   "metadata": {},
   "outputs": [
    {
     "name": "stdout",
     "output_type": "stream",
     "text": [
      "WARNING:tensorflow:From C:\\Users\\whdng\\anaconda3\\Lib\\site-packages\\keras\\src\\backend.py:873: The name tf.get_default_graph is deprecated. Please use tf.compat.v1.get_default_graph instead.\n",
      "\n"
     ]
    }
   ],
   "source": [
    "model = Sequential()"
   ]
  },
  {
   "cell_type": "code",
   "execution_count": 17,
   "id": "c18bda8a",
   "metadata": {},
   "outputs": [],
   "source": [
    "model.add(Dense(units=64, activation='relu', input_dim=train_X.shape[1]))\n",
    "model.add(Dense(units=32, activation='relu'))\n",
    "model.add(Dense(units=2, activation='softmax'))  # 분류 클래스 수에 맞게 조정\n"
   ]
  },
  {
   "cell_type": "code",
   "execution_count": 18,
   "id": "46752654",
   "metadata": {},
   "outputs": [
    {
     "name": "stdout",
     "output_type": "stream",
     "text": [
      "WARNING:tensorflow:From C:\\Users\\whdng\\anaconda3\\Lib\\site-packages\\keras\\src\\optimizers\\__init__.py:309: The name tf.train.Optimizer is deprecated. Please use tf.compat.v1.train.Optimizer instead.\n",
      "\n"
     ]
    }
   ],
   "source": [
    "model.compile(loss='categorical_crossentropy', optimizer='adam', metrics=['accuracy'])\n"
   ]
  },
  {
   "cell_type": "code",
   "execution_count": 19,
   "id": "61fc90e0",
   "metadata": {},
   "outputs": [
    {
     "name": "stdout",
     "output_type": "stream",
     "text": [
      "Epoch 1/100\n",
      "WARNING:tensorflow:From C:\\Users\\whdng\\anaconda3\\Lib\\site-packages\\keras\\src\\utils\\tf_utils.py:492: The name tf.ragged.RaggedTensorValue is deprecated. Please use tf.compat.v1.ragged.RaggedTensorValue instead.\n",
      "\n",
      "WARNING:tensorflow:From C:\\Users\\whdng\\anaconda3\\Lib\\site-packages\\keras\\src\\engine\\base_layer_utils.py:384: The name tf.executing_eagerly_outside_functions is deprecated. Please use tf.compat.v1.executing_eagerly_outside_functions instead.\n",
      "\n",
      "23/23 [==============================] - 1s 2ms/step - loss: 11229.7803 - accuracy: 0.4819\n",
      "Epoch 2/100\n",
      "23/23 [==============================] - 0s 2ms/step - loss: 1289.7061 - accuracy: 0.4917\n",
      "Epoch 3/100\n",
      "23/23 [==============================] - 0s 2ms/step - loss: 209.1654 - accuracy: 0.5042\n",
      "Epoch 4/100\n",
      "23/23 [==============================] - 0s 2ms/step - loss: 130.8900 - accuracy: 0.5042\n",
      "Epoch 5/100\n",
      "23/23 [==============================] - 0s 2ms/step - loss: 93.7615 - accuracy: 0.5167\n",
      "Epoch 6/100\n",
      "23/23 [==============================] - 0s 2ms/step - loss: 152.4520 - accuracy: 0.5306\n",
      "Epoch 7/100\n",
      "23/23 [==============================] - 0s 2ms/step - loss: 77.8421 - accuracy: 0.5111\n",
      "Epoch 8/100\n",
      "23/23 [==============================] - 0s 2ms/step - loss: 43.2047 - accuracy: 0.5236\n",
      "Epoch 9/100\n",
      "23/23 [==============================] - 0s 2ms/step - loss: 103.9465 - accuracy: 0.5139\n",
      "Epoch 10/100\n",
      "23/23 [==============================] - 0s 2ms/step - loss: 70.7762 - accuracy: 0.5458\n",
      "Epoch 11/100\n",
      "23/23 [==============================] - 0s 2ms/step - loss: 134.6548 - accuracy: 0.5250\n",
      "Epoch 12/100\n",
      "23/23 [==============================] - 0s 2ms/step - loss: 160.1660 - accuracy: 0.4917\n",
      "Epoch 13/100\n",
      "23/23 [==============================] - 0s 2ms/step - loss: 51.3803 - accuracy: 0.5847\n",
      "Epoch 14/100\n",
      "23/23 [==============================] - 0s 2ms/step - loss: 38.8740 - accuracy: 0.6250\n",
      "Epoch 15/100\n",
      "23/23 [==============================] - 0s 2ms/step - loss: 69.5892 - accuracy: 0.5375\n",
      "Epoch 16/100\n",
      "23/23 [==============================] - 0s 2ms/step - loss: 35.6449 - accuracy: 0.5972\n",
      "Epoch 17/100\n",
      "23/23 [==============================] - 0s 2ms/step - loss: 41.4176 - accuracy: 0.6056\n",
      "Epoch 18/100\n",
      "23/23 [==============================] - 0s 2ms/step - loss: 43.4088 - accuracy: 0.5889\n",
      "Epoch 19/100\n",
      "23/23 [==============================] - 0s 2ms/step - loss: 54.6292 - accuracy: 0.5319\n",
      "Epoch 20/100\n",
      "23/23 [==============================] - 0s 2ms/step - loss: 20.1445 - accuracy: 0.6597\n",
      "Epoch 21/100\n",
      "23/23 [==============================] - 0s 2ms/step - loss: 66.2355 - accuracy: 0.5514\n",
      "Epoch 22/100\n",
      "23/23 [==============================] - 0s 2ms/step - loss: 56.3586 - accuracy: 0.5819\n",
      "Epoch 23/100\n",
      "23/23 [==============================] - 0s 2ms/step - loss: 50.9176 - accuracy: 0.5681\n",
      "Epoch 24/100\n",
      "23/23 [==============================] - 0s 2ms/step - loss: 58.7907 - accuracy: 0.5569\n",
      "Epoch 25/100\n",
      "23/23 [==============================] - 0s 2ms/step - loss: 20.2729 - accuracy: 0.6625\n",
      "Epoch 26/100\n",
      "23/23 [==============================] - 0s 2ms/step - loss: 45.8223 - accuracy: 0.5889\n",
      "Epoch 27/100\n",
      "23/23 [==============================] - 0s 2ms/step - loss: 69.4935 - accuracy: 0.5903\n",
      "Epoch 28/100\n",
      "23/23 [==============================] - 0s 2ms/step - loss: 28.4079 - accuracy: 0.6375\n",
      "Epoch 29/100\n",
      "23/23 [==============================] - 0s 2ms/step - loss: 11.4429 - accuracy: 0.7736\n",
      "Epoch 30/100\n",
      "23/23 [==============================] - 0s 2ms/step - loss: 10.9916 - accuracy: 0.7722\n",
      "Epoch 31/100\n",
      "23/23 [==============================] - 0s 2ms/step - loss: 49.7599 - accuracy: 0.5736\n",
      "Epoch 32/100\n",
      "23/23 [==============================] - 0s 2ms/step - loss: 22.9023 - accuracy: 0.6653\n",
      "Epoch 33/100\n",
      "23/23 [==============================] - 0s 2ms/step - loss: 14.6650 - accuracy: 0.7306\n",
      "Epoch 34/100\n",
      "23/23 [==============================] - 0s 2ms/step - loss: 15.7386 - accuracy: 0.7069\n",
      "Epoch 35/100\n",
      "23/23 [==============================] - 0s 2ms/step - loss: 21.4400 - accuracy: 0.6694\n",
      "Epoch 36/100\n",
      "23/23 [==============================] - 0s 2ms/step - loss: 53.2690 - accuracy: 0.5764\n",
      "Epoch 37/100\n",
      "23/23 [==============================] - 0s 2ms/step - loss: 23.4449 - accuracy: 0.6931\n",
      "Epoch 38/100\n",
      "23/23 [==============================] - 0s 2ms/step - loss: 11.5325 - accuracy: 0.7569\n",
      "Epoch 39/100\n",
      "23/23 [==============================] - 0s 2ms/step - loss: 18.4663 - accuracy: 0.6833\n",
      "Epoch 40/100\n",
      "23/23 [==============================] - 0s 2ms/step - loss: 16.0601 - accuracy: 0.7292\n",
      "Epoch 41/100\n",
      "23/23 [==============================] - 0s 1ms/step - loss: 6.9846 - accuracy: 0.8139\n",
      "Epoch 42/100\n",
      "23/23 [==============================] - 0s 2ms/step - loss: 7.4284 - accuracy: 0.8139\n",
      "Epoch 43/100\n",
      "23/23 [==============================] - 0s 2ms/step - loss: 15.1213 - accuracy: 0.7389\n",
      "Epoch 44/100\n",
      "23/23 [==============================] - 0s 2ms/step - loss: 24.6384 - accuracy: 0.6597\n",
      "Epoch 45/100\n",
      "23/23 [==============================] - 0s 2ms/step - loss: 18.0591 - accuracy: 0.7125\n",
      "Epoch 46/100\n",
      "23/23 [==============================] - 0s 2ms/step - loss: 20.9247 - accuracy: 0.6972\n",
      "Epoch 47/100\n",
      "23/23 [==============================] - 0s 2ms/step - loss: 25.4134 - accuracy: 0.7111\n",
      "Epoch 48/100\n",
      "23/23 [==============================] - 0s 2ms/step - loss: 18.6522 - accuracy: 0.7292\n",
      "Epoch 49/100\n",
      "23/23 [==============================] - 0s 2ms/step - loss: 18.8761 - accuracy: 0.7097\n",
      "Epoch 50/100\n",
      "23/23 [==============================] - 0s 2ms/step - loss: 30.2809 - accuracy: 0.6542\n",
      "Epoch 51/100\n",
      "23/23 [==============================] - 0s 2ms/step - loss: 20.3661 - accuracy: 0.7042\n",
      "Epoch 52/100\n",
      "23/23 [==============================] - 0s 2ms/step - loss: 13.0599 - accuracy: 0.7264\n",
      "Epoch 53/100\n",
      "23/23 [==============================] - 0s 2ms/step - loss: 8.2648 - accuracy: 0.7986\n",
      "Epoch 54/100\n",
      "23/23 [==============================] - 0s 2ms/step - loss: 11.4141 - accuracy: 0.7750\n",
      "Epoch 55/100\n",
      "23/23 [==============================] - 0s 2ms/step - loss: 10.5008 - accuracy: 0.7778\n",
      "Epoch 56/100\n",
      "23/23 [==============================] - 0s 2ms/step - loss: 14.6618 - accuracy: 0.7556\n",
      "Epoch 57/100\n",
      "23/23 [==============================] - 0s 2ms/step - loss: 9.2593 - accuracy: 0.7861\n",
      "Epoch 58/100\n",
      "23/23 [==============================] - 0s 2ms/step - loss: 33.9457 - accuracy: 0.6389\n",
      "Epoch 59/100\n",
      "23/23 [==============================] - 0s 2ms/step - loss: 60.6967 - accuracy: 0.5875\n",
      "Epoch 60/100\n",
      "23/23 [==============================] - 0s 2ms/step - loss: 22.5926 - accuracy: 0.7264\n",
      "Epoch 61/100\n",
      "23/23 [==============================] - 0s 2ms/step - loss: 22.3498 - accuracy: 0.7181\n",
      "Epoch 62/100\n",
      "23/23 [==============================] - 0s 2ms/step - loss: 29.6580 - accuracy: 0.6639\n",
      "Epoch 63/100\n",
      "23/23 [==============================] - 0s 1ms/step - loss: 15.3469 - accuracy: 0.7542\n",
      "Epoch 64/100\n",
      "23/23 [==============================] - 0s 2ms/step - loss: 22.6269 - accuracy: 0.6833\n",
      "Epoch 65/100\n",
      "23/23 [==============================] - 0s 2ms/step - loss: 14.6775 - accuracy: 0.7542\n",
      "Epoch 66/100\n",
      "23/23 [==============================] - 0s 2ms/step - loss: 39.6803 - accuracy: 0.6625\n",
      "Epoch 67/100\n",
      "23/23 [==============================] - 0s 2ms/step - loss: 26.7124 - accuracy: 0.6764\n",
      "Epoch 68/100\n",
      "23/23 [==============================] - 0s 2ms/step - loss: 22.4612 - accuracy: 0.7069\n",
      "Epoch 69/100\n",
      "23/23 [==============================] - 0s 2ms/step - loss: 42.6692 - accuracy: 0.6069\n",
      "Epoch 70/100\n",
      "23/23 [==============================] - 0s 1ms/step - loss: 20.6476 - accuracy: 0.7000\n",
      "Epoch 71/100\n",
      "23/23 [==============================] - 0s 2ms/step - loss: 15.8589 - accuracy: 0.7583\n",
      "Epoch 72/100\n",
      "23/23 [==============================] - 0s 2ms/step - loss: 38.9699 - accuracy: 0.6306\n",
      "Epoch 73/100\n",
      "23/23 [==============================] - 0s 2ms/step - loss: 34.5648 - accuracy: 0.6514\n",
      "Epoch 74/100\n",
      "23/23 [==============================] - 0s 2ms/step - loss: 46.1599 - accuracy: 0.6167\n",
      "Epoch 75/100\n",
      "23/23 [==============================] - 0s 2ms/step - loss: 13.9124 - accuracy: 0.7681\n",
      "Epoch 76/100\n",
      "23/23 [==============================] - 0s 2ms/step - loss: 19.4673 - accuracy: 0.7264\n",
      "Epoch 77/100\n"
     ]
    },
    {
     "name": "stdout",
     "output_type": "stream",
     "text": [
      "23/23 [==============================] - 0s 2ms/step - loss: 13.5781 - accuracy: 0.7736\n",
      "Epoch 78/100\n",
      "23/23 [==============================] - 0s 2ms/step - loss: 12.7519 - accuracy: 0.7958\n",
      "Epoch 79/100\n",
      "23/23 [==============================] - 0s 2ms/step - loss: 15.7154 - accuracy: 0.7250\n",
      "Epoch 80/100\n",
      "23/23 [==============================] - 0s 2ms/step - loss: 8.2738 - accuracy: 0.8125\n",
      "Epoch 81/100\n",
      "23/23 [==============================] - 0s 3ms/step - loss: 14.0954 - accuracy: 0.7569\n",
      "Epoch 82/100\n",
      "23/23 [==============================] - 0s 2ms/step - loss: 11.4266 - accuracy: 0.7528\n",
      "Epoch 83/100\n",
      "23/23 [==============================] - 0s 2ms/step - loss: 16.7186 - accuracy: 0.7389\n",
      "Epoch 84/100\n",
      "23/23 [==============================] - 0s 2ms/step - loss: 11.8112 - accuracy: 0.8083\n",
      "Epoch 85/100\n",
      "23/23 [==============================] - 0s 2ms/step - loss: 52.0967 - accuracy: 0.6056\n",
      "Epoch 86/100\n",
      "23/23 [==============================] - 0s 2ms/step - loss: 87.6958 - accuracy: 0.5889\n",
      "Epoch 87/100\n",
      "23/23 [==============================] - 0s 2ms/step - loss: 38.5986 - accuracy: 0.6583\n",
      "Epoch 88/100\n",
      "23/23 [==============================] - 0s 2ms/step - loss: 17.0411 - accuracy: 0.7833\n",
      "Epoch 89/100\n",
      "23/23 [==============================] - 0s 2ms/step - loss: 23.7168 - accuracy: 0.6986\n",
      "Epoch 90/100\n",
      "23/23 [==============================] - 0s 2ms/step - loss: 11.5544 - accuracy: 0.8181\n",
      "Epoch 91/100\n",
      "23/23 [==============================] - 0s 2ms/step - loss: 9.5070 - accuracy: 0.8056\n",
      "Epoch 92/100\n",
      "23/23 [==============================] - 0s 2ms/step - loss: 14.1289 - accuracy: 0.7472\n",
      "Epoch 93/100\n",
      "23/23 [==============================] - 0s 2ms/step - loss: 12.8889 - accuracy: 0.7681\n",
      "Epoch 94/100\n",
      "23/23 [==============================] - 0s 2ms/step - loss: 18.2864 - accuracy: 0.7292\n",
      "Epoch 95/100\n",
      "23/23 [==============================] - 0s 2ms/step - loss: 14.7919 - accuracy: 0.7653\n",
      "Epoch 96/100\n",
      "23/23 [==============================] - 0s 2ms/step - loss: 20.3045 - accuracy: 0.7208\n",
      "Epoch 97/100\n",
      "23/23 [==============================] - 0s 2ms/step - loss: 9.1614 - accuracy: 0.8236\n",
      "Epoch 98/100\n",
      "23/23 [==============================] - 0s 2ms/step - loss: 9.0226 - accuracy: 0.8264\n",
      "Epoch 99/100\n",
      "23/23 [==============================] - 0s 2ms/step - loss: 11.1464 - accuracy: 0.7792\n",
      "Epoch 100/100\n",
      "23/23 [==============================] - 0s 2ms/step - loss: 14.7558 - accuracy: 0.7444\n"
     ]
    },
    {
     "data": {
      "text/plain": [
       "<keras.src.callbacks.History at 0x25a11f97690>"
      ]
     },
     "execution_count": 19,
     "metadata": {},
     "output_type": "execute_result"
    }
   ],
   "source": [
    "model.fit(train_X, train_Y, epochs=100, batch_size=32)\n"
   ]
  },
  {
   "cell_type": "code",
   "execution_count": 20,
   "id": "86a36f5e",
   "metadata": {},
   "outputs": [
    {
     "name": "stdout",
     "output_type": "stream",
     "text": [
      "6/6 [==============================] - 0s 2ms/step - loss: 21.2692 - accuracy: 0.6833\n",
      "테스트 손실: 21.26915740966797\n",
      "테스트 정확도: 0.6833333373069763\n"
     ]
    }
   ],
   "source": [
    "test_loss, test_accuracy = model.evaluate(test_X, test_Y)\n",
    "print(\"테스트 손실:\", test_loss)\n",
    "print(\"테스트 정확도:\", test_accuracy)\n"
   ]
  },
  {
   "cell_type": "code",
   "execution_count": 21,
   "id": "ea242381",
   "metadata": {},
   "outputs": [
    {
     "name": "stdout",
     "output_type": "stream",
     "text": [
      "6/6 [==============================] - 0s 2ms/step\n"
     ]
    }
   ],
   "source": [
    "predictions = model.predict(test_X)\n"
   ]
  },
  {
   "cell_type": "code",
   "execution_count": null,
   "id": "af380c0d",
   "metadata": {},
   "outputs": [],
   "source": []
  }
 ],
 "metadata": {
  "kernelspec": {
   "display_name": "Python 3 (ipykernel)",
   "language": "python",
   "name": "python3"
  },
  "language_info": {
   "codemirror_mode": {
    "name": "ipython",
    "version": 3
   },
   "file_extension": ".py",
   "mimetype": "text/x-python",
   "name": "python",
   "nbconvert_exporter": "python",
   "pygments_lexer": "ipython3",
   "version": "3.11.5"
  }
 },
 "nbformat": 4,
 "nbformat_minor": 5
}
