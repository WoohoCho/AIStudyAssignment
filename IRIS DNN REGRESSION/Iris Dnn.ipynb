{
 "cells": [
  {
   "cell_type": "code",
   "execution_count": 1,
   "id": "489e6978",
   "metadata": {},
   "outputs": [
    {
     "name": "stdout",
     "output_type": "stream",
     "text": [
      "WARNING:tensorflow:From C:\\Users\\whdng\\anaconda3\\Lib\\site-packages\\keras\\src\\losses.py:2976: The name tf.losses.sparse_softmax_cross_entropy is deprecated. Please use tf.compat.v1.losses.sparse_softmax_cross_entropy instead.\n",
      "\n"
     ]
    }
   ],
   "source": [
    "import pandas as pd            # 파이썬에서 자료 정제 및 분석                   \n",
    "from sklearn.model_selection import train_test_split     \n",
    "from keras.models import Sequential \n",
    "from keras.layers import Dense \n",
    "from keras import optimizers \n",
    "import numpy as np \n",
    "import tensorflow as tf"
   ]
  },
  {
   "cell_type": "code",
   "execution_count": 4,
   "id": "ac183c23",
   "metadata": {},
   "outputs": [
    {
     "name": "stdout",
     "output_type": "stream",
     "text": [
      "<class 'pandas.core.frame.DataFrame'>\n",
      "RangeIndex: 150 entries, 0 to 149\n",
      "Data columns (total 5 columns):\n",
      " #   Column        Non-Null Count  Dtype  \n",
      "---  ------        --------------  -----  \n",
      " 0   sepal.length  150 non-null    float64\n",
      " 1   sepal.width   150 non-null    float64\n",
      " 2   petal.length  150 non-null    float64\n",
      " 3   petal.width   150 non-null    float64\n",
      " 4   variety       150 non-null    object \n",
      "dtypes: float64(4), object(1)\n",
      "memory usage: 6.0+ KB\n"
     ]
    }
   ],
   "source": [
    "data = pd.read_csv('iris.csv')\n",
    "data.info()"
   ]
  },
  {
   "cell_type": "code",
   "execution_count": 5,
   "id": "c885a214",
   "metadata": {},
   "outputs": [
    {
     "data": {
      "text/html": [
       "<div>\n",
       "<style scoped>\n",
       "    .dataframe tbody tr th:only-of-type {\n",
       "        vertical-align: middle;\n",
       "    }\n",
       "\n",
       "    .dataframe tbody tr th {\n",
       "        vertical-align: top;\n",
       "    }\n",
       "\n",
       "    .dataframe thead th {\n",
       "        text-align: right;\n",
       "    }\n",
       "</style>\n",
       "<table border=\"1\" class=\"dataframe\">\n",
       "  <thead>\n",
       "    <tr style=\"text-align: right;\">\n",
       "      <th></th>\n",
       "      <th>sepal.length</th>\n",
       "      <th>sepal.width</th>\n",
       "      <th>petal.length</th>\n",
       "      <th>petal.width</th>\n",
       "      <th>variety</th>\n",
       "    </tr>\n",
       "  </thead>\n",
       "  <tbody>\n",
       "    <tr>\n",
       "      <th>0</th>\n",
       "      <td>5.1</td>\n",
       "      <td>3.5</td>\n",
       "      <td>1.4</td>\n",
       "      <td>0.2</td>\n",
       "      <td>Setosa</td>\n",
       "    </tr>\n",
       "    <tr>\n",
       "      <th>1</th>\n",
       "      <td>4.9</td>\n",
       "      <td>3.0</td>\n",
       "      <td>1.4</td>\n",
       "      <td>0.2</td>\n",
       "      <td>Setosa</td>\n",
       "    </tr>\n",
       "    <tr>\n",
       "      <th>2</th>\n",
       "      <td>4.7</td>\n",
       "      <td>3.2</td>\n",
       "      <td>1.3</td>\n",
       "      <td>0.2</td>\n",
       "      <td>Setosa</td>\n",
       "    </tr>\n",
       "    <tr>\n",
       "      <th>3</th>\n",
       "      <td>4.6</td>\n",
       "      <td>3.1</td>\n",
       "      <td>1.5</td>\n",
       "      <td>0.2</td>\n",
       "      <td>Setosa</td>\n",
       "    </tr>\n",
       "    <tr>\n",
       "      <th>4</th>\n",
       "      <td>5.0</td>\n",
       "      <td>3.6</td>\n",
       "      <td>1.4</td>\n",
       "      <td>0.2</td>\n",
       "      <td>Setosa</td>\n",
       "    </tr>\n",
       "    <tr>\n",
       "      <th>...</th>\n",
       "      <td>...</td>\n",
       "      <td>...</td>\n",
       "      <td>...</td>\n",
       "      <td>...</td>\n",
       "      <td>...</td>\n",
       "    </tr>\n",
       "    <tr>\n",
       "      <th>145</th>\n",
       "      <td>6.7</td>\n",
       "      <td>3.0</td>\n",
       "      <td>5.2</td>\n",
       "      <td>2.3</td>\n",
       "      <td>Virginica</td>\n",
       "    </tr>\n",
       "    <tr>\n",
       "      <th>146</th>\n",
       "      <td>6.3</td>\n",
       "      <td>2.5</td>\n",
       "      <td>5.0</td>\n",
       "      <td>1.9</td>\n",
       "      <td>Virginica</td>\n",
       "    </tr>\n",
       "    <tr>\n",
       "      <th>147</th>\n",
       "      <td>6.5</td>\n",
       "      <td>3.0</td>\n",
       "      <td>5.2</td>\n",
       "      <td>2.0</td>\n",
       "      <td>Virginica</td>\n",
       "    </tr>\n",
       "    <tr>\n",
       "      <th>148</th>\n",
       "      <td>6.2</td>\n",
       "      <td>3.4</td>\n",
       "      <td>5.4</td>\n",
       "      <td>2.3</td>\n",
       "      <td>Virginica</td>\n",
       "    </tr>\n",
       "    <tr>\n",
       "      <th>149</th>\n",
       "      <td>5.9</td>\n",
       "      <td>3.0</td>\n",
       "      <td>5.1</td>\n",
       "      <td>1.8</td>\n",
       "      <td>Virginica</td>\n",
       "    </tr>\n",
       "  </tbody>\n",
       "</table>\n",
       "<p>150 rows × 5 columns</p>\n",
       "</div>"
      ],
      "text/plain": [
       "     sepal.length  sepal.width  petal.length  petal.width    variety\n",
       "0             5.1          3.5           1.4          0.2     Setosa\n",
       "1             4.9          3.0           1.4          0.2     Setosa\n",
       "2             4.7          3.2           1.3          0.2     Setosa\n",
       "3             4.6          3.1           1.5          0.2     Setosa\n",
       "4             5.0          3.6           1.4          0.2     Setosa\n",
       "..            ...          ...           ...          ...        ...\n",
       "145           6.7          3.0           5.2          2.3  Virginica\n",
       "146           6.3          2.5           5.0          1.9  Virginica\n",
       "147           6.5          3.0           5.2          2.0  Virginica\n",
       "148           6.2          3.4           5.4          2.3  Virginica\n",
       "149           5.9          3.0           5.1          1.8  Virginica\n",
       "\n",
       "[150 rows x 5 columns]"
      ]
     },
     "execution_count": 5,
     "metadata": {},
     "output_type": "execute_result"
    }
   ],
   "source": [
    "data"
   ]
  },
  {
   "cell_type": "code",
   "execution_count": 6,
   "id": "4c2d22e7",
   "metadata": {},
   "outputs": [
    {
     "name": "stdout",
     "output_type": "stream",
     "text": [
      "품종 종류: ['Setosa' 'Versicolor' 'Virginica']\n",
      "품종 종류: [1 2 0]\n"
     ]
    }
   ],
   "source": [
    "# 중복을 허용하지 않고 있는 데이터의 종류를 출력\n",
    "print(\"품종 종류:\", data[\"variety\"].unique())\n",
    "\n",
    "# 라벨을 정수로 인덱싱\n",
    "data['variety'] = data['variety'].replace(['Virginica','Setosa','Versicolor'],[0,1,2])\n",
    "print(\"품종 종류:\", data[\"variety\"].unique())"
   ]
  },
  {
   "cell_type": "code",
   "execution_count": 7,
   "id": "eb0c97eb",
   "metadata": {},
   "outputs": [],
   "source": [
    "# 입력 및 라벨 데이터\n",
    "data_X = data[['sepal.length', 'sepal.width', 'petal.length', 'petal.width']].values \n",
    "data_y = data['variety'].values"
   ]
  },
  {
   "cell_type": "code",
   "execution_count": 8,
   "id": "d0c4760a",
   "metadata": {},
   "outputs": [],
   "source": [
    "# 학습 및 테스트 데이터\n",
    "(train_X, test_X, train_Y, test_Y) = train_test_split(data_X, data_y, train_size=0.8)"
   ]
  },
  {
   "cell_type": "code",
   "execution_count": 9,
   "id": "3393236f",
   "metadata": {},
   "outputs": [],
   "source": [
    "from keras.utils import to_categorical\n",
    "#  학습 및 테스트 데이터 원-핫 인코딩\n",
    "train_Y = to_categorical(train_Y)\n",
    "test_Y = to_categorical(test_Y)"
   ]
  },
  {
   "cell_type": "code",
   "execution_count": 10,
   "id": "04b3fa11",
   "metadata": {},
   "outputs": [
    {
     "name": "stdout",
     "output_type": "stream",
     "text": [
      "WARNING:tensorflow:From C:\\Users\\whdng\\anaconda3\\Lib\\site-packages\\keras\\src\\backend.py:873: The name tf.get_default_graph is deprecated. Please use tf.compat.v1.get_default_graph instead.\n",
      "\n",
      "Model: \"sequential\"\n",
      "_________________________________________________________________\n",
      " Layer (type)                Output Shape              Param #   \n",
      "=================================================================\n",
      " dense (Dense)               (None, 16)                80        \n",
      "                                                                 \n",
      " dense_1 (Dense)             (None, 16)                272       \n",
      "                                                                 \n",
      " dense_2 (Dense)             (None, 3)                 51        \n",
      "                                                                 \n",
      "=================================================================\n",
      "Total params: 403 (1.57 KB)\n",
      "Trainable params: 403 (1.57 KB)\n",
      "Non-trainable params: 0 (0.00 Byte)\n",
      "_________________________________________________________________\n"
     ]
    }
   ],
   "source": [
    "model= Sequential()\n",
    "#model.add(Dense(3, input_dim=4, activation='softmax'))\n",
    "model.add(Dense(16, input_dim=4, activation='relu'))\n",
    "model.add(Dense(16, activation='relu'))\n",
    "model.add(Dense(3, activation='softmax'))\n",
    "\n",
    "model.summary()  "
   ]
  },
  {
   "cell_type": "code",
   "execution_count": 11,
   "id": "8f619274",
   "metadata": {},
   "outputs": [],
   "source": [
    "model.compile(optimizer = optimizers.SGD(0.01), loss='categorical_crossentropy', metrics=['accuracy'])"
   ]
  },
  {
   "cell_type": "code",
   "execution_count": 12,
   "id": "fc5d9a46",
   "metadata": {},
   "outputs": [
    {
     "name": "stdout",
     "output_type": "stream",
     "text": [
      "Epoch 1/100\n",
      "WARNING:tensorflow:From C:\\Users\\whdng\\anaconda3\\Lib\\site-packages\\keras\\src\\utils\\tf_utils.py:492: The name tf.ragged.RaggedTensorValue is deprecated. Please use tf.compat.v1.ragged.RaggedTensorValue instead.\n",
      "\n",
      "WARNING:tensorflow:From C:\\Users\\whdng\\anaconda3\\Lib\\site-packages\\keras\\src\\engine\\base_layer_utils.py:384: The name tf.executing_eagerly_outside_functions is deprecated. Please use tf.compat.v1.executing_eagerly_outside_functions instead.\n",
      "\n",
      "120/120 [==============================] - 1s 4ms/step - loss: 0.7868 - accuracy: 0.6667 - val_loss: 0.3771 - val_accuracy: 0.9333\n",
      "Epoch 2/100\n",
      "120/120 [==============================] - 0s 3ms/step - loss: 0.4603 - accuracy: 0.8167 - val_loss: 0.2748 - val_accuracy: 0.9000\n",
      "Epoch 3/100\n",
      "120/120 [==============================] - 0s 3ms/step - loss: 0.3709 - accuracy: 0.8250 - val_loss: 0.1964 - val_accuracy: 0.9333\n",
      "Epoch 4/100\n",
      "120/120 [==============================] - 0s 2ms/step - loss: 0.3438 - accuracy: 0.8500 - val_loss: 0.1869 - val_accuracy: 0.9667\n",
      "Epoch 5/100\n",
      "120/120 [==============================] - 0s 2ms/step - loss: 0.3162 - accuracy: 0.8417 - val_loss: 0.2793 - val_accuracy: 0.8667\n",
      "Epoch 6/100\n",
      "120/120 [==============================] - 0s 2ms/step - loss: 0.2992 - accuracy: 0.8583 - val_loss: 0.1244 - val_accuracy: 0.9667\n",
      "Epoch 7/100\n",
      "120/120 [==============================] - 0s 3ms/step - loss: 0.2429 - accuracy: 0.8917 - val_loss: 0.2903 - val_accuracy: 0.8667\n",
      "Epoch 8/100\n",
      "120/120 [==============================] - 0s 2ms/step - loss: 0.2335 - accuracy: 0.9000 - val_loss: 0.1568 - val_accuracy: 0.9333\n",
      "Epoch 9/100\n",
      "120/120 [==============================] - 0s 2ms/step - loss: 0.2083 - accuracy: 0.9250 - val_loss: 0.1903 - val_accuracy: 0.9333\n",
      "Epoch 10/100\n",
      "120/120 [==============================] - 0s 2ms/step - loss: 0.1899 - accuracy: 0.9083 - val_loss: 0.1776 - val_accuracy: 0.9333\n",
      "Epoch 11/100\n",
      "120/120 [==============================] - 0s 2ms/step - loss: 0.2482 - accuracy: 0.8833 - val_loss: 0.1518 - val_accuracy: 0.9667\n",
      "Epoch 12/100\n",
      "120/120 [==============================] - 0s 3ms/step - loss: 0.2031 - accuracy: 0.9417 - val_loss: 0.0911 - val_accuracy: 0.9333\n",
      "Epoch 13/100\n",
      "120/120 [==============================] - 0s 2ms/step - loss: 0.2380 - accuracy: 0.8917 - val_loss: 0.1868 - val_accuracy: 0.9333\n",
      "Epoch 14/100\n",
      "120/120 [==============================] - 0s 2ms/step - loss: 0.2223 - accuracy: 0.9083 - val_loss: 0.1314 - val_accuracy: 0.9667\n",
      "Epoch 15/100\n",
      "120/120 [==============================] - 0s 2ms/step - loss: 0.1706 - accuracy: 0.9417 - val_loss: 0.1041 - val_accuracy: 0.9667\n",
      "Epoch 16/100\n",
      "120/120 [==============================] - 0s 3ms/step - loss: 0.1768 - accuracy: 0.9167 - val_loss: 0.1295 - val_accuracy: 0.9667\n",
      "Epoch 17/100\n",
      "120/120 [==============================] - 0s 2ms/step - loss: 0.2108 - accuracy: 0.9167 - val_loss: 0.0941 - val_accuracy: 0.9333\n",
      "Epoch 18/100\n",
      "120/120 [==============================] - 0s 2ms/step - loss: 0.2006 - accuracy: 0.9333 - val_loss: 0.1230 - val_accuracy: 0.9667\n",
      "Epoch 19/100\n",
      "120/120 [==============================] - 0s 3ms/step - loss: 0.1842 - accuracy: 0.9250 - val_loss: 0.0916 - val_accuracy: 0.9333\n",
      "Epoch 20/100\n",
      "120/120 [==============================] - 0s 2ms/step - loss: 0.1816 - accuracy: 0.9250 - val_loss: 0.1039 - val_accuracy: 0.9667\n",
      "Epoch 21/100\n",
      "120/120 [==============================] - 0s 3ms/step - loss: 0.1312 - accuracy: 0.9500 - val_loss: 0.0964 - val_accuracy: 0.9667\n",
      "Epoch 22/100\n",
      "120/120 [==============================] - 0s 2ms/step - loss: 0.1536 - accuracy: 0.9250 - val_loss: 0.0932 - val_accuracy: 0.9333\n",
      "Epoch 23/100\n",
      "120/120 [==============================] - 0s 2ms/step - loss: 0.1945 - accuracy: 0.9000 - val_loss: 0.0950 - val_accuracy: 0.9667\n",
      "Epoch 24/100\n",
      "120/120 [==============================] - 0s 1ms/step - loss: 0.2262 - accuracy: 0.9083 - val_loss: 0.2689 - val_accuracy: 0.8667\n",
      "Epoch 25/100\n",
      "120/120 [==============================] - 0s 2ms/step - loss: 0.1754 - accuracy: 0.9500 - val_loss: 0.1091 - val_accuracy: 0.9667\n",
      "Epoch 26/100\n",
      "120/120 [==============================] - 0s 2ms/step - loss: 0.1830 - accuracy: 0.9250 - val_loss: 0.2616 - val_accuracy: 0.9000\n",
      "Epoch 27/100\n",
      "120/120 [==============================] - 0s 2ms/step - loss: 0.1533 - accuracy: 0.9250 - val_loss: 0.1284 - val_accuracy: 0.9667\n",
      "Epoch 28/100\n",
      "120/120 [==============================] - 0s 2ms/step - loss: 0.2108 - accuracy: 0.9167 - val_loss: 0.1531 - val_accuracy: 0.9667\n",
      "Epoch 29/100\n",
      "120/120 [==============================] - 0s 3ms/step - loss: 0.1386 - accuracy: 0.9500 - val_loss: 0.0884 - val_accuracy: 0.9333\n",
      "Epoch 30/100\n",
      "120/120 [==============================] - 0s 3ms/step - loss: 0.2073 - accuracy: 0.9250 - val_loss: 0.1817 - val_accuracy: 0.9333\n",
      "Epoch 31/100\n",
      "120/120 [==============================] - 0s 2ms/step - loss: 0.1527 - accuracy: 0.9417 - val_loss: 0.1940 - val_accuracy: 0.9333\n",
      "Epoch 32/100\n",
      "120/120 [==============================] - 0s 3ms/step - loss: 0.1958 - accuracy: 0.9000 - val_loss: 0.2076 - val_accuracy: 0.9333\n",
      "Epoch 33/100\n",
      "120/120 [==============================] - 0s 3ms/step - loss: 0.1411 - accuracy: 0.9417 - val_loss: 0.1199 - val_accuracy: 0.9667\n",
      "Epoch 34/100\n",
      "120/120 [==============================] - 0s 3ms/step - loss: 0.1620 - accuracy: 0.9500 - val_loss: 0.1794 - val_accuracy: 0.9667\n",
      "Epoch 35/100\n",
      "120/120 [==============================] - 0s 3ms/step - loss: 0.1931 - accuracy: 0.9083 - val_loss: 0.1055 - val_accuracy: 0.9667\n",
      "Epoch 36/100\n",
      "120/120 [==============================] - 0s 2ms/step - loss: 0.1439 - accuracy: 0.9500 - val_loss: 0.1791 - val_accuracy: 0.9667\n",
      "Epoch 37/100\n",
      "120/120 [==============================] - 0s 2ms/step - loss: 0.1136 - accuracy: 0.9500 - val_loss: 0.1028 - val_accuracy: 0.9667\n",
      "Epoch 38/100\n",
      "120/120 [==============================] - 0s 2ms/step - loss: 0.1397 - accuracy: 0.9500 - val_loss: 0.1148 - val_accuracy: 0.9667\n",
      "Epoch 39/100\n",
      "120/120 [==============================] - 0s 2ms/step - loss: 0.0992 - accuracy: 0.9500 - val_loss: 0.1643 - val_accuracy: 0.9667\n",
      "Epoch 40/100\n",
      "120/120 [==============================] - 0s 3ms/step - loss: 0.1723 - accuracy: 0.9333 - val_loss: 0.1417 - val_accuracy: 0.9667\n",
      "Epoch 41/100\n",
      "120/120 [==============================] - 0s 3ms/step - loss: 0.1356 - accuracy: 0.9333 - val_loss: 0.1586 - val_accuracy: 0.9667\n",
      "Epoch 42/100\n",
      "120/120 [==============================] - 0s 2ms/step - loss: 0.1621 - accuracy: 0.9167 - val_loss: 0.2424 - val_accuracy: 0.9000\n",
      "Epoch 43/100\n",
      "120/120 [==============================] - 0s 3ms/step - loss: 0.1179 - accuracy: 0.9417 - val_loss: 0.1665 - val_accuracy: 0.9667\n",
      "Epoch 44/100\n",
      "120/120 [==============================] - 0s 2ms/step - loss: 0.1080 - accuracy: 0.9583 - val_loss: 0.1192 - val_accuracy: 0.9667\n",
      "Epoch 45/100\n",
      "120/120 [==============================] - 0s 2ms/step - loss: 0.0954 - accuracy: 0.9500 - val_loss: 0.1012 - val_accuracy: 0.9333\n",
      "Epoch 46/100\n",
      "120/120 [==============================] - 0s 2ms/step - loss: 0.1311 - accuracy: 0.9333 - val_loss: 0.0983 - val_accuracy: 0.9333\n",
      "Epoch 47/100\n",
      "120/120 [==============================] - 0s 2ms/step - loss: 0.0853 - accuracy: 0.9750 - val_loss: 0.1555 - val_accuracy: 0.9667\n",
      "Epoch 48/100\n",
      "120/120 [==============================] - 0s 3ms/step - loss: 0.0835 - accuracy: 0.9667 - val_loss: 0.1734 - val_accuracy: 0.9667\n",
      "Epoch 49/100\n",
      "120/120 [==============================] - 0s 2ms/step - loss: 0.1551 - accuracy: 0.9417 - val_loss: 0.1207 - val_accuracy: 0.9667\n",
      "Epoch 50/100\n",
      "120/120 [==============================] - 0s 2ms/step - loss: 0.1278 - accuracy: 0.9667 - val_loss: 0.1536 - val_accuracy: 0.9667\n",
      "Epoch 51/100\n",
      "120/120 [==============================] - 0s 2ms/step - loss: 0.1599 - accuracy: 0.9333 - val_loss: 0.0838 - val_accuracy: 0.9667\n",
      "Epoch 52/100\n",
      "120/120 [==============================] - 0s 2ms/step - loss: 0.0771 - accuracy: 0.9833 - val_loss: 0.1263 - val_accuracy: 0.9667\n",
      "Epoch 53/100\n",
      "120/120 [==============================] - 0s 2ms/step - loss: 0.0720 - accuracy: 0.9667 - val_loss: 0.1591 - val_accuracy: 0.9667\n",
      "Epoch 54/100\n",
      "120/120 [==============================] - 0s 2ms/step - loss: 0.1183 - accuracy: 0.9667 - val_loss: 0.4419 - val_accuracy: 0.8667\n"
     ]
    },
    {
     "name": "stdout",
     "output_type": "stream",
     "text": [
      "Epoch 55/100\n",
      "120/120 [==============================] - 0s 2ms/step - loss: 0.1409 - accuracy: 0.9417 - val_loss: 0.1029 - val_accuracy: 0.9667\n",
      "Epoch 56/100\n",
      "120/120 [==============================] - 0s 2ms/step - loss: 0.1342 - accuracy: 0.9500 - val_loss: 0.0888 - val_accuracy: 0.9333\n",
      "Epoch 57/100\n",
      "120/120 [==============================] - 0s 2ms/step - loss: 0.1078 - accuracy: 0.9583 - val_loss: 0.1012 - val_accuracy: 0.9667\n",
      "Epoch 58/100\n",
      "120/120 [==============================] - 0s 2ms/step - loss: 0.0995 - accuracy: 0.9667 - val_loss: 0.3019 - val_accuracy: 0.9000\n",
      "Epoch 59/100\n",
      "120/120 [==============================] - 0s 2ms/step - loss: 0.0774 - accuracy: 0.9500 - val_loss: 0.1832 - val_accuracy: 0.9667\n",
      "Epoch 60/100\n",
      "120/120 [==============================] - 0s 2ms/step - loss: 0.1696 - accuracy: 0.9250 - val_loss: 0.1041 - val_accuracy: 0.9333\n",
      "Epoch 61/100\n",
      "120/120 [==============================] - 0s 3ms/step - loss: 0.1038 - accuracy: 0.9667 - val_loss: 0.1671 - val_accuracy: 0.9667\n",
      "Epoch 62/100\n",
      "120/120 [==============================] - 0s 3ms/step - loss: 0.1656 - accuracy: 0.9417 - val_loss: 0.1219 - val_accuracy: 0.9667\n",
      "Epoch 63/100\n",
      "120/120 [==============================] - 0s 2ms/step - loss: 0.0993 - accuracy: 0.9583 - val_loss: 0.1236 - val_accuracy: 0.9667\n",
      "Epoch 64/100\n",
      "120/120 [==============================] - 0s 2ms/step - loss: 0.1220 - accuracy: 0.9667 - val_loss: 0.0984 - val_accuracy: 0.9333\n",
      "Epoch 65/100\n",
      "120/120 [==============================] - 0s 2ms/step - loss: 0.1304 - accuracy: 0.9500 - val_loss: 0.0971 - val_accuracy: 0.9333\n",
      "Epoch 66/100\n",
      "120/120 [==============================] - 0s 2ms/step - loss: 0.1332 - accuracy: 0.9333 - val_loss: 0.1018 - val_accuracy: 0.9333\n",
      "Epoch 67/100\n",
      "120/120 [==============================] - 0s 2ms/step - loss: 0.1026 - accuracy: 0.9750 - val_loss: 0.1007 - val_accuracy: 0.9333\n",
      "Epoch 68/100\n",
      "120/120 [==============================] - 0s 2ms/step - loss: 0.1216 - accuracy: 0.9583 - val_loss: 0.0913 - val_accuracy: 0.9667\n",
      "Epoch 69/100\n",
      "120/120 [==============================] - 0s 3ms/step - loss: 0.1109 - accuracy: 0.9500 - val_loss: 0.1340 - val_accuracy: 0.9667\n",
      "Epoch 70/100\n",
      "120/120 [==============================] - 0s 2ms/step - loss: 0.0851 - accuracy: 0.9667 - val_loss: 0.2774 - val_accuracy: 0.9000\n",
      "Epoch 71/100\n",
      "120/120 [==============================] - 0s 3ms/step - loss: 0.1200 - accuracy: 0.9667 - val_loss: 0.1968 - val_accuracy: 0.9667\n",
      "Epoch 72/100\n",
      "120/120 [==============================] - 0s 3ms/step - loss: 0.0949 - accuracy: 0.9500 - val_loss: 0.1211 - val_accuracy: 0.9667\n",
      "Epoch 73/100\n",
      "120/120 [==============================] - 0s 2ms/step - loss: 0.1301 - accuracy: 0.9583 - val_loss: 0.1157 - val_accuracy: 0.9667\n",
      "Epoch 74/100\n",
      "120/120 [==============================] - 0s 3ms/step - loss: 0.0840 - accuracy: 0.9667 - val_loss: 0.0983 - val_accuracy: 0.9333\n",
      "Epoch 75/100\n",
      "120/120 [==============================] - 0s 3ms/step - loss: 0.1281 - accuracy: 0.9500 - val_loss: 0.0979 - val_accuracy: 0.9333\n",
      "Epoch 76/100\n",
      "120/120 [==============================] - 0s 3ms/step - loss: 0.1020 - accuracy: 0.9667 - val_loss: 0.1795 - val_accuracy: 0.9667\n",
      "Epoch 77/100\n",
      "120/120 [==============================] - 0s 2ms/step - loss: 0.0789 - accuracy: 0.9667 - val_loss: 0.1921 - val_accuracy: 0.9667\n",
      "Epoch 78/100\n",
      "120/120 [==============================] - 0s 3ms/step - loss: 0.1556 - accuracy: 0.9333 - val_loss: 0.1108 - val_accuracy: 0.9667\n",
      "Epoch 79/100\n",
      "120/120 [==============================] - 0s 3ms/step - loss: 0.1339 - accuracy: 0.9500 - val_loss: 0.1199 - val_accuracy: 0.9667\n",
      "Epoch 80/100\n",
      "120/120 [==============================] - 0s 2ms/step - loss: 0.1218 - accuracy: 0.9583 - val_loss: 0.1390 - val_accuracy: 0.9667\n",
      "Epoch 81/100\n",
      "120/120 [==============================] - 0s 2ms/step - loss: 0.1075 - accuracy: 0.9500 - val_loss: 0.1577 - val_accuracy: 0.9667\n",
      "Epoch 82/100\n",
      "120/120 [==============================] - 0s 2ms/step - loss: 0.1073 - accuracy: 0.9583 - val_loss: 0.1480 - val_accuracy: 0.9667\n",
      "Epoch 83/100\n",
      "120/120 [==============================] - 0s 2ms/step - loss: 0.0685 - accuracy: 0.9667 - val_loss: 0.1757 - val_accuracy: 0.9667\n",
      "Epoch 84/100\n",
      "120/120 [==============================] - 0s 3ms/step - loss: 0.1333 - accuracy: 0.9500 - val_loss: 0.1666 - val_accuracy: 0.9667\n",
      "Epoch 85/100\n",
      "120/120 [==============================] - 0s 3ms/step - loss: 0.0665 - accuracy: 0.9750 - val_loss: 0.0958 - val_accuracy: 0.9333\n",
      "Epoch 86/100\n",
      "120/120 [==============================] - 0s 3ms/step - loss: 0.0883 - accuracy: 0.9667 - val_loss: 0.1386 - val_accuracy: 0.9667\n",
      "Epoch 87/100\n",
      "120/120 [==============================] - 0s 3ms/step - loss: 0.1066 - accuracy: 0.9750 - val_loss: 0.1030 - val_accuracy: 0.9333\n",
      "Epoch 88/100\n",
      "120/120 [==============================] - 0s 2ms/step - loss: 0.1174 - accuracy: 0.9583 - val_loss: 0.1374 - val_accuracy: 0.9667\n",
      "Epoch 89/100\n",
      "120/120 [==============================] - 0s 2ms/step - loss: 0.0965 - accuracy: 0.9583 - val_loss: 0.0962 - val_accuracy: 0.9333\n",
      "Epoch 90/100\n",
      "120/120 [==============================] - 0s 3ms/step - loss: 0.0994 - accuracy: 0.9583 - val_loss: 0.1143 - val_accuracy: 0.9667\n",
      "Epoch 91/100\n",
      "120/120 [==============================] - 0s 3ms/step - loss: 0.0626 - accuracy: 0.9750 - val_loss: 0.0961 - val_accuracy: 0.9333\n",
      "Epoch 92/100\n",
      "120/120 [==============================] - 0s 3ms/step - loss: 0.0592 - accuracy: 0.9833 - val_loss: 0.1037 - val_accuracy: 0.9333\n",
      "Epoch 93/100\n",
      "120/120 [==============================] - 0s 3ms/step - loss: 0.1207 - accuracy: 0.9417 - val_loss: 0.1119 - val_accuracy: 0.9667\n",
      "Epoch 94/100\n",
      "120/120 [==============================] - 0s 3ms/step - loss: 0.1010 - accuracy: 0.9750 - val_loss: 0.1289 - val_accuracy: 0.9667\n",
      "Epoch 95/100\n",
      "120/120 [==============================] - 0s 3ms/step - loss: 0.0962 - accuracy: 0.9583 - val_loss: 0.1591 - val_accuracy: 0.9667\n",
      "Epoch 96/100\n",
      "120/120 [==============================] - 0s 3ms/step - loss: 0.0794 - accuracy: 0.9750 - val_loss: 0.1367 - val_accuracy: 0.9667\n",
      "Epoch 97/100\n",
      "120/120 [==============================] - 0s 3ms/step - loss: 0.0734 - accuracy: 0.9750 - val_loss: 0.1714 - val_accuracy: 0.9667\n",
      "Epoch 98/100\n",
      "120/120 [==============================] - 0s 2ms/step - loss: 0.0764 - accuracy: 0.9750 - val_loss: 0.1666 - val_accuracy: 0.9667\n",
      "Epoch 99/100\n",
      "120/120 [==============================] - 0s 2ms/step - loss: 0.1266 - accuracy: 0.9417 - val_loss: 0.0955 - val_accuracy: 0.9333\n",
      "Epoch 100/100\n",
      "120/120 [==============================] - 0s 2ms/step - loss: 0.1117 - accuracy: 0.9500 - val_loss: 0.1443 - val_accuracy: 0.9667\n"
     ]
    }
   ],
   "source": [
    "history = model.fit(train_X, train_Y, \n",
    "                    epochs = 100, batch_size = 1,  \n",
    "                    validation_data=(test_X, test_Y))"
   ]
  },
  {
   "cell_type": "code",
   "execution_count": 13,
   "id": "64538351",
   "metadata": {},
   "outputs": [
    {
     "name": "stdout",
     "output_type": "stream",
     "text": [
      "1/1 [==============================] - 0s 148ms/step - loss: 0.1443 - accuracy: 0.9667\n"
     ]
    },
    {
     "data": {
      "text/plain": [
       "[0.1443457156419754, 0.9666666388511658]"
      ]
     },
     "execution_count": 13,
     "metadata": {},
     "output_type": "execute_result"
    }
   ],
   "source": [
    "model.evaluate(test_X, test_Y)"
   ]
  },
  {
   "cell_type": "code",
   "execution_count": 14,
   "id": "e9a9cc21",
   "metadata": {},
   "outputs": [
    {
     "name": "stdout",
     "output_type": "stream",
     "text": [
      "1/1 [==============================] - 0s 115ms/step\n",
      "[[9.3190060e-11 9.9929273e-01 7.0727797e-04]\n",
      " [3.5497948e-12 9.9980789e-01 1.9214176e-04]\n",
      " [3.4244994e-12 9.9976403e-01 2.3593349e-04]\n",
      " [9.9867094e-01 2.5666004e-08 1.3291050e-03]\n",
      " [9.9907011e-01 2.6075533e-08 9.2992262e-04]]\n",
      "[[0. 1. 0.]\n",
      " [0. 1. 0.]\n",
      " [0. 1. 0.]\n",
      " [1. 0. 0.]\n",
      " [1. 0. 0.]]\n"
     ]
    }
   ],
   "source": [
    "predit = model.predict(test_X)\n",
    "#for i in range(0,len(predit)) :\n",
    "#    print(\"예측값 : \", predit[i], \"\\t실제값 : \", test_Y[i])\n",
    "print(predit[0:5])    # 예측 결과\n",
    "print(test_Y[0:5])    # 라벨"
   ]
  },
  {
   "cell_type": "code",
   "execution_count": 15,
   "id": "2a07a660",
   "metadata": {},
   "outputs": [
    {
     "data": {
      "image/png": "[encoded data removed]",
      "text/plain": [
       "<Figure size 640x480 with 1 Axes>"
      ]
     },
     "metadata": {},
     "output_type": "display_data"
    }
   ],
   "source": [
    "import matplotlib.pyplot as plt\n",
    "epochs = range(1, len(history.history['accuracy']) + 1)\n",
    "plt.plot(epochs, history.history['accuracy'])\n",
    "plt.plot(epochs, history.history['val_accuracy'])\n",
    "plt.title('model loss')\n",
    "plt.ylabel('accuracy')\n",
    "plt.xlabel('epoch')\n",
    "plt.legend(['train', 'val'], loc='upper right')\n",
    "plt.show()\n"
   ]
  },
  {
   "cell_type": "code",
   "execution_count": null,
   "id": "1af0c8e5",
   "metadata": {},
   "outputs": [],
   "source": []
  }
 ],
 "metadata": {
  "kernelspec": {
   "display_name": "Python 3 (ipykernel)",
   "language": "python",
   "name": "python3"
  },
  "language_info": {
   "codemirror_mode": {
    "name": "ipython",
    "version": 3
   },
   "file_extension": ".py",
   "mimetype": "text/x-python",
   "name": "python",
   "nbconvert_exporter": "python",
   "pygments_lexer": "ipython3",
   "version": "3.11.5"
  }
 },
 "nbformat": 4,
 "nbformat_minor": 5
}
