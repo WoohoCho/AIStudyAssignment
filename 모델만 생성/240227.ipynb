{
 "cells": [
  {
   "cell_type": "code",
   "execution_count": 3,
   "id": "7b5909f4",
   "metadata": {},
   "outputs": [
    {
     "name": "stdout",
     "output_type": "stream",
     "text": [
      "WARNING:tensorflow:From C:\\Users\\whdng\\anaconda3\\Lib\\site-packages\\keras\\src\\losses.py:2976: The name tf.losses.sparse_softmax_cross_entropy is deprecated. Please use tf.compat.v1.losses.sparse_softmax_cross_entropy instead.\n",
      "\n"
     ]
    }
   ],
   "source": [
    "import tensorflow as tf\n",
    "import numpy as np\n",
    "import pandas as pd\n",
    "import matplotlib.pyplot as plt  # 수정: matplotlib.pyplot으로 수정\n",
    "\n",
    "# 파일 경로를 정확하게 지정해야 합니다.\n",
    "data = pd.read_csv(\"reprocessed.hungarian.data\")\n"
   ]
  },
  {
   "cell_type": "code",
   "execution_count": 4,
   "id": "b2464afb",
   "metadata": {},
   "outputs": [
    {
     "name": "stdout",
     "output_type": "stream",
     "text": [
      "<bound method NDFrame._add_numeric_operations.<locals>.sum of      40 1 2 140 289 0 0 172 0 0 -9 -9 -9 0\n",
      "0                                    False\n",
      "1                                    False\n",
      "2                                    False\n",
      "3                                    False\n",
      "4                                    False\n",
      "..                                     ...\n",
      "288                                  False\n",
      "289                                  False\n",
      "290                                  False\n",
      "291                                  False\n",
      "292                                  False\n",
      "\n",
      "[293 rows x 1 columns]>\n"
     ]
    }
   ],
   "source": [
    "missing_values = data.isnull().sum\n",
    "print(missing_values)"
   ]
  },
  {
   "cell_type": "code",
   "execution_count": 8,
   "id": "6d7212d0",
   "metadata": {},
   "outputs": [],
   "source": [
    "from tensorflow.keras.models import Sequential\n",
    "from tensorflow.keras.layers import Conv1D, Dropout, MaxPooling1D, LSTM, Dense\n",
    "\n",
    "# 예시로 사용되는 변수 설정\n",
    "n_timesteps = 100  # 시계열 데이터의 시간 단계 수\n",
    "n_features = 10    # 각 시간 단계에서 사용되는 특징 수\n",
    "n_outputs = 3      # 출력의 수 (예: 클래스 수)"
   ]
  },
  {
   "cell_type": "code",
   "execution_count": 9,
   "id": "376fc0c4",
   "metadata": {},
   "outputs": [],
   "source": [
    "# 모델 정의\n",
    "model = Sequential()"
   ]
  },
  {
   "cell_type": "code",
   "execution_count": 10,
   "id": "a4a26378",
   "metadata": {},
   "outputs": [
    {
     "name": "stdout",
     "output_type": "stream",
     "text": [
      "WARNING:tensorflow:From C:\\Users\\whdng\\anaconda3\\Lib\\site-packages\\keras\\src\\backend.py:6642: The name tf.nn.max_pool is deprecated. Please use tf.nn.max_pool2d instead.\n",
      "\n"
     ]
    }
   ],
   "source": [
    "# Convolutional layer 추가\n",
    "model.add(Conv1D(filters=64, kernel_size=3, activation='relu', input_shape=(n_timesteps, n_features)))\n",
    "model.add(Dropout(0.5))\n",
    "model.add(MaxPooling1D(pool_size=2))"
   ]
  },
  {
   "cell_type": "code",
   "execution_count": 11,
   "id": "8cf41902",
   "metadata": {},
   "outputs": [],
   "source": [
    "# LSTM layer 추가\n",
    "model.add(LSTM(100, return_sequences=True))\n",
    "model.add(LSTM(100))"
   ]
  },
  {
   "cell_type": "code",
   "execution_count": 12,
   "id": "0d550ba1",
   "metadata": {},
   "outputs": [],
   "source": [
    "# Fully connected layers 추가\n",
    "model.add(Dropout(0.5))\n",
    "model.add(Dense(100, activation='relu'))\n"
   ]
  },
  {
   "cell_type": "code",
   "execution_count": 13,
   "id": "0120e878",
   "metadata": {},
   "outputs": [],
   "source": [
    "# 출력 레이어 추가\n",
    "model.add(Dense(n_outputs, activation='softmax'))"
   ]
  },
  {
   "cell_type": "code",
   "execution_count": 14,
   "id": "dba9f6e8",
   "metadata": {},
   "outputs": [
    {
     "name": "stdout",
     "output_type": "stream",
     "text": [
      "WARNING:tensorflow:From C:\\Users\\whdng\\anaconda3\\Lib\\site-packages\\keras\\src\\optimizers\\__init__.py:309: The name tf.train.Optimizer is deprecated. Please use tf.compat.v1.train.Optimizer instead.\n",
      "\n",
      "Model: \"sequential_1\"\n",
      "_________________________________________________________________\n",
      " Layer (type)                Output Shape              Param #   \n",
      "=================================================================\n",
      " conv1d (Conv1D)             (None, 98, 64)            1984      \n",
      "                                                                 \n",
      " dropout (Dropout)           (None, 98, 64)            0         \n",
      "                                                                 \n",
      " max_pooling1d (MaxPooling1  (None, 49, 64)            0         \n",
      " D)                                                              \n",
      "                                                                 \n",
      " lstm (LSTM)                 (None, 49, 100)           66000     \n",
      "                                                                 \n",
      " lstm_1 (LSTM)               (None, 100)               80400     \n",
      "                                                                 \n",
      " dropout_1 (Dropout)         (None, 100)               0         \n",
      "                                                                 \n",
      " dense (Dense)               (None, 100)               10100     \n",
      "                                                                 \n",
      " dense_1 (Dense)             (None, 3)                 303       \n",
      "                                                                 \n",
      "=================================================================\n",
      "Total params: 158787 (620.26 KB)\n",
      "Trainable params: 158787 (620.26 KB)\n",
      "Non-trainable params: 0 (0.00 Byte)\n",
      "_________________________________________________________________\n"
     ]
    }
   ],
   "source": [
    "# 모델 컴파일\n",
    "model.compile(loss='categorical_crossentropy', optimizer='adam', metrics=['accuracy'])\n",
    "\n",
    "# 모델 요약\n",
    "model.summary()"
   ]
  },
  {
   "cell_type": "code",
   "execution_count": null,
   "id": "2d699244",
   "metadata": {},
   "outputs": [],
   "source": []
  }
 ],
 "metadata": {
  "kernelspec": {
   "display_name": "Python 3 (ipykernel)",
   "language": "python",
   "name": "python3"
  },
  "language_info": {
   "codemirror_mode": {
    "name": "ipython",
    "version": 3
   },
   "file_extension": ".py",
   "mimetype": "text/x-python",
   "name": "python",
   "nbconvert_exporter": "python",
   "pygments_lexer": "ipython3",
   "version": "3.11.5"
  }
 },
 "nbformat": 4,
 "nbformat_minor": 5
}
