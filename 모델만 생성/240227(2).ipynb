{
 "cells": [
  {
   "cell_type": "code",
   "execution_count": 1,
   "id": "33e4d005",
   "metadata": {},
   "outputs": [
    {
     "name": "stdout",
     "output_type": "stream",
     "text": [
      "WARNING:tensorflow:From C:\\Users\\whdng\\anaconda3\\Lib\\site-packages\\keras\\src\\losses.py:2976: The name tf.losses.sparse_softmax_cross_entropy is deprecated. Please use tf.compat.v1.losses.sparse_softmax_cross_entropy instead.\n",
      "\n"
     ]
    }
   ],
   "source": [
    "import tensorflow as tf\n",
    "import numpy as np\n",
    "import pandas as pd\n",
    "import matplotlib.pyplot as plt  # 수정: matplotlib.pyplot으로 수정\n",
    "\n",
    "# 파일 경로를 정확하게 지정해야 합니다.\n",
    "data = pd.read_csv(\"reprocessed.hungarian.data\")\n"
   ]
  },
  {
   "cell_type": "code",
   "execution_count": 3,
   "id": "07c03e3b",
   "metadata": {},
   "outputs": [
    {
     "name": "stdout",
     "output_type": "stream",
     "text": [
      "WARNING:tensorflow:From C:\\Users\\whdng\\anaconda3\\Lib\\site-packages\\keras\\src\\backend.py:6642: The name tf.nn.max_pool is deprecated. Please use tf.nn.max_pool2d instead.\n",
      "\n",
      "WARNING:tensorflow:From C:\\Users\\whdng\\anaconda3\\Lib\\site-packages\\keras\\src\\optimizers\\__init__.py:309: The name tf.train.Optimizer is deprecated. Please use tf.compat.v1.train.Optimizer instead.\n",
      "\n",
      "Model: \"sequential_1\"\n",
      "_________________________________________________________________\n",
      " Layer (type)                Output Shape              Param #   \n",
      "=================================================================\n",
      " conv1d (Conv1D)             (None, 98, 64)            256       \n",
      "                                                                 \n",
      " dropout (Dropout)           (None, 98, 64)            0         \n",
      "                                                                 \n",
      " max_pooling1d (MaxPooling1  (None, 49, 64)            0         \n",
      " D)                                                              \n",
      "                                                                 \n",
      " lstm (LSTM)                 (None, 49, 100)           66000     \n",
      "                                                                 \n",
      " lstm_1 (LSTM)               (None, 49, 100)           80400     \n",
      "                                                                 \n",
      " lstm_2 (LSTM)               (None, 100)               80400     \n",
      "                                                                 \n",
      " dropout_1 (Dropout)         (None, 100)               0         \n",
      "                                                                 \n",
      " dense (Dense)               (None, 100)               10100     \n",
      "                                                                 \n",
      " dense_1 (Dense)             (None, 10)                1010      \n",
      "                                                                 \n",
      "=================================================================\n",
      "Total params: 238166 (930.34 KB)\n",
      "Trainable params: 238166 (930.34 KB)\n",
      "Non-trainable params: 0 (0.00 Byte)\n",
      "_________________________________________________________________\n"
     ]
    }
   ],
   "source": [
    "import tensorflow as tf\n",
    "from tensorflow.keras.models import Sequential\n",
    "from tensorflow.keras.layers import Conv1D, Dropout, MaxPooling1D, LSTM, Dense\n",
    "\n",
    "# 모델 파라미터 설정\n",
    "n_timesteps = 100  # 시계열 데이터의 타임 스텝 수\n",
    "n_features = 1     # 각 타임 스텝에서 사용되는 특성 수\n",
    "n_outputs = 10     # 모델의 출력 수\n",
    "\n",
    "# 모델 생성\n",
    "model = Sequential()\n",
    "\n",
    "# Conv1D 레이어 추가import tensorflow as tf\n",
    "import numpy as np\n",
    "import pandas as pd\n",
    "import matplotlib.pyplot as plt  # 수정: matplotlib.pyplot으로 수정\n",
    "\n",
    "# 파일 경로를 정확하게 지정해야 합니다.\n",
    "data = pd.read_csv(\"reprocessed.hungarian.data\")\n",
    "\n",
    "model.add(Conv1D(filters=64, kernel_size=3, activation='relu', input_shape=(n_timesteps,n_features)))\n",
    "\n",
    "# Dropout 레이어 추가\n",
    "model.add(Dropout(0.5))\n",
    "\n",
    "# MaxPooling1D 레이어 추가\n",
    "model.add(MaxPooling1D(pool_size=2))\n",
    "\n",
    "# LSTM 레이어 추가\n",
    "model.add(LSTM(100, return_sequences=True))\n",
    "model.add(LSTM(100, return_sequences=True))\n",
    "model.add(LSTM(100))\n",
    "\n",
    "# Dropout 레이어 추가\n",
    "model.add(Dropout(0.5))\n",
    "\n",
    "# Dense 레이어 추가\n",
    "model.add(Dense(100, activation='relu'))\n",
    "\n",
    "# 출력 레이어 추가\n",
    "model.add(Dense(n_outputs, activation='softmax'))\n",
    "\n",
    "# 모델 컴파일\n",
    "model.compile(loss='categorical_crossentropy', optimizer='adam', metrics=['accuracy'])\n",
    "\n",
    "# 모델 요약\n",
    "model.summary()\n"
   ]
  },
  {
   "cell_type": "code",
   "execution_count": null,
   "id": "965c338f",
   "metadata": {},
   "outputs": [],
   "source": []
  }
 ],
 "metadata": {
  "kernelspec": {
   "display_name": "Python 3 (ipykernel)",
   "language": "python",
   "name": "python3"
  },
  "language_info": {
   "codemirror_mode": {
    "name": "ipython",
    "version": 3
   },
   "file_extension": ".py",
   "mimetype": "text/x-python",
   "name": "python",
   "nbconvert_exporter": "python",
   "pygments_lexer": "ipython3",
   "version": "3.11.5"
  }
 },
 "nbformat": 4,
 "nbformat_minor": 5
}
